{
  "nbformat": 4,
  "nbformat_minor": 0,
  "metadata": {
    "colab": {
      "provenance": [],
      "authorship_tag": "ABX9TyMPPjGIKhgbXK1HkNhKisE4",
      "include_colab_link": true
    },
    "kernelspec": {
      "name": "python3",
      "display_name": "Python 3"
    },
    "language_info": {
      "name": "python"
    }
  },
  "cells": [
    {
      "cell_type": "markdown",
      "metadata": {
        "id": "view-in-github",
        "colab_type": "text"
      },
      "source": [
        "<a href=\"https://colab.research.google.com/github/Tarheen-Fatima/Shapes_And_Color/blob/main/Shapes_AND_Color.ipynb\" target=\"_parent\"><img src=\"https://colab.research.google.com/assets/colab-badge.svg\" alt=\"Open In Colab\"/></a>"
      ]
    },
    {
      "cell_type": "code",
      "execution_count": 4,
      "metadata": {
        "colab": {
          "base_uri": "https://localhost:8080/",
          "height": 441
        },
        "id": "zxN7mTEs9bLf",
        "outputId": "8ccda62c-bdc3-4314-9223-540a554dc4d4"
      },
      "outputs": [
        {
          "name": "stdout",
          "output_type": "stream",
          "text": [
            "Enter shape (circle, square, triangle, hexagon, pentagon, star): pentagon\n",
            "Enter color (red, green, blue, yellow, black): blue\n"
          ]
        },
        {
          "output_type": "display_data",
          "data": {
            "text/plain": [
              "<Figure size 640x480 with 1 Axes>"
            ],
            "image/png": "[encoded data removed]"
          },
          "metadata": {}
        }
      ],
      "source": [
        "import numpy as np\n",
        "import matplotlib.pyplot as plt\n",
        "from skimage.draw import disk, polygon\n",
        "\n",
        "def generate_art_with_description(shape, color):\n",
        "    canvas = np.ones((100, 100, 3))  # Increase canvas size for better resolution\n",
        "\n",
        "    # Define color mappings\n",
        "    color_dict = {\n",
        "        \"red\": (1, 0, 0),\n",
        "        \"green\": (0, 1, 0),\n",
        "        \"blue\": (0, 0, 1),\n",
        "        \"yellow\": (1, 1, 0),\n",
        "        \"black\": (0, 0, 0),\n",
        "        \"white\": (1, 1, 1)\n",
        "    }\n",
        "\n",
        "    if color in color_dict:\n",
        "        chosen_color = color_dict[color]\n",
        "    else:\n",
        "        chosen_color = (0, 0, 0)  # Default to black if color is invalid\n",
        "\n",
        "    # Draw shape based on user input\n",
        "    if shape == \"circle\":\n",
        "        rr, cc = disk((50, 50), 30)  # Circle with center (50, 50) and radius 30\n",
        "        canvas[rr, cc] = chosen_color\n",
        "    elif shape == \"square\":\n",
        "        canvas[30:70, 30:70] = chosen_color\n",
        "    elif shape == \"triangle\":\n",
        "        for i in range(30, 70):\n",
        "            canvas[i, 50 - (i - 30):50 + (i - 30)] = chosen_color\n",
        "    elif shape == \"hexagon\":\n",
        "        hexagon = np.array([[30, 50], [40, 70], [60, 70], [70, 50], [60, 30], [40, 30]])  # Hexagon vertices\n",
        "        rr, cc = polygon(hexagon[:, 0], hexagon[:, 1], canvas.shape)\n",
        "        canvas[rr, cc] = chosen_color\n",
        "    elif shape == \"pentagon\":\n",
        "        pentagon = np.array([[40, 30], [60, 30], [70, 50], [50, 70], [30, 50]])  # Pentagon vertices\n",
        "        rr, cc = polygon(pentagon[:, 0], pentagon[:, 1], canvas.shape)\n",
        "        canvas[rr, cc] = chosen_color\n",
        "    elif shape == \"star\":\n",
        "        star = np.array([[50, 30], [55, 45], [70, 45], [58, 55], [63, 70], [50, 60], [37, 70], [42, 55], [30, 45], [45, 45]])  # Star vertices\n",
        "        rr, cc = polygon(star[:, 0], star[:, 1], canvas.shape)\n",
        "        canvas[rr, cc] = chosen_color\n",
        "    else:\n",
        "        print(\"Shape not recognized. Try circle, square, triangle, hexagon, pentagon, or star.\")\n",
        "\n",
        "    # Display the generated image\n",
        "    plt.imshow(canvas)\n",
        "    plt.axis('off')\n",
        "    plt.show()\n",
        "\n",
        "# Example\n",
        "shape = input(\"Enter shape (circle, square, triangle, hexagon, pentagon, star): \")\n",
        "color = input(\"Enter color (red, green, blue, yellow, black): \")\n",
        "generate_art_with_description(shape, color)"
      ]
    }
  ]
}