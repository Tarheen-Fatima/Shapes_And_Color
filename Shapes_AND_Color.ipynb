{
  "nbformat": 4,
  "nbformat_minor": 0,
  "metadata": {
    "colab": {
      "provenance": [],
      "authorship_tag": "ABX9TyMuY5u/ypspIPFcI21kFcSQ",
      "include_colab_link": true
    },
    "kernelspec": {
      "name": "python3",
      "display_name": "Python 3"
    },
    "language_info": {
      "name": "python"
    }
  },
  "cells": [
    {
      "cell_type": "markdown",
      "metadata": {
        "id": "view-in-github",
        "colab_type": "text"
      },
      "source": [
        "<a href=\"https://colab.research.google.com/github/Tarheen-Fatima/Shapes_And_Color/blob/main/Shapes_AND_Color.ipynb\" target=\"_parent\"><img src=\"https://colab.research.google.com/assets/colab-badge.svg\" alt=\"Open In Colab\"/></a>"
      ]
    },
    {
      "cell_type": "code",
      "execution_count": 4,
      "metadata": {
        "colab": {
          "base_uri": "https://localhost:8080/",
          "height": 441
        },
        "id": "zxN7mTEs9bLf",
        "outputId": "8ccda62c-bdc3-4314-9223-540a554dc4d4"
      },
      "outputs": [
        {
          "name": "stdout",
          "output_type": "stream",
          "text": [
            "Enter shape (circle, square, triangle, hexagon, pentagon, star): pentagon\n",
            "Enter color (red, green, blue, yellow, black): blue\n"
          ]
        },
        {
          "output_type": "display_data",
          "data": {
            "text/plain": [
              "<Figure size 640x480 with 1 Axes>"
            ],
            "image/png": "[encoded data removed]"
          },
          "metadata": {}
        }
      ],
      "source": [
        "import numpy as np\n",
        "import matplotlib.pyplot as plt\n",
        "from skimage.draw import disk, polygon\n",
        "\n",
        "def generate_art_with_description(shape, color):\n",
        "    canvas = np.ones((100, 100, 3))  # Increase canvas size for better resolution\n",
        "\n",
        "    # Define color mappings\n",
        "    color_dict = {\n",
        "        \"red\": (1, 0, 0),\n",
        "        \"green\": (0, 1, 0),\n",
        "        \"blue\": (0, 0, 1),\n",
        "        \"yellow\": (1, 1, 0),\n",
        "        \"black\": (0, 0, 0),\n",
        "        \"white\": (1, 1, 1)\n",
        "    }\n",
        "\n",
        "    if color in color_dict:\n",
        "        chosen_color = color_dict[color]\n",
        "    else:\n",
        "        chosen_color = (0, 0, 0)  # Default to black if color is invalid\n",
        "\n",
        "    # Draw shape based on user input\n",
        "    if shape == \"circle\":\n",
        "        rr, cc = disk((50, 50), 30)  # Circle with center (50, 50) and radius 30\n",
        "        canvas[rr, cc] = chosen_color\n",
        "    elif shape == \"square\":\n",
        "        canvas[30:70, 30:70] = chosen_color\n",
        "    elif shape == \"triangle\":\n",
        "        for i in range(30, 70):\n",
        "            canvas[i, 50 - (i - 30):50 + (i - 30)] = chosen_color\n",
        "    elif shape == \"hexagon\":\n",
        "        hexagon = np.array([[30, 50], [40, 70], [60, 70], [70, 50], [60, 30], [40, 30]])  # Hexagon vertices\n",
        "        rr, cc = polygon(hexagon[:, 0], hexagon[:, 1], canvas.shape)\n",
        "        canvas[rr, cc] = chosen_color\n",
        "    elif shape == \"pentagon\":\n",
        "        pentagon = np.array([[40, 30], [60, 30], [70, 50], [50, 70], [30, 50]])  # Pentagon vertices\n",
        "        rr, cc = polygon(pentagon[:, 0], pentagon[:, 1], canvas.shape)\n",
        "        canvas[rr, cc] = chosen_color\n",
        "    elif shape == \"star\":\n",
        "        star = np.array([[50, 30], [55, 45], [70, 45], [58, 55], [63, 70], [50, 60], [37, 70], [42, 55], [30, 45], [45, 45]])  # Star vertices\n",
        "        rr, cc = polygon(star[:, 0], star[:, 1], canvas.shape)\n",
        "        canvas[rr, cc] = chosen_color\n",
        "    else:\n",
        "        print(\"Shape not recognized. Try circle, square, triangle, hexagon, pentagon, or star.\")\n",
        "\n",
        "    # Display the generated image\n",
        "    plt.imshow(canvas)\n",
        "    plt.axis('off')\n",
        "    plt.show()\n",
        "\n",
        "# Example\n",
        "shape = input(\"Enter shape (circle, square, triangle, hexagon, pentagon, star): \")\n",
        "color = input(\"Enter color (red, green, blue, yellow, black): \")\n",
        "generate_art_with_description(shape, color)"
      ]
    },
    {
      "cell_type": "code",
      "source": [
        "import matplotlib.pyplot as plt\n",
        "import matplotlib.patches as patches\n",
        "\n",
        "# Function to generate shapes and colors based on user input\n",
        "def generate_art_with_patches(shape, color):\n",
        "    # Create figure and axis\n",
        "    fig, ax = plt.subplots()\n",
        "\n",
        "    # Define color mappings\n",
        "    color_dict = {\n",
        "        \"red\": \"red\",\n",
        "        \"green\": \"green\",\n",
        "        \"blue\": \"blue\",\n",
        "        \"yellow\": \"yellow\",\n",
        "        \"black\": \"black\",\n",
        "        \"white\": \"white\"\n",
        "    }\n",
        "\n",
        "    if color in color_dict:\n",
        "        chosen_color = color_dict[color]\n",
        "    else:\n",
        "        chosen_color = \"black\"  # Default to black if color is invalid\n",
        "\n",
        "    # Draw shape based on user input\n",
        "    if shape == \"circle\":\n",
        "        circle = patches.Circle((0.5, 0.5), 0.4, color=chosen_color)\n",
        "        ax.add_patch(circle)\n",
        "    elif shape == \"square\":\n",
        "        square = patches.Rectangle((0.25, 0.25), 0.5, 0.5, color=chosen_color)\n",
        "        ax.add_patch(square)\n",
        "    elif shape == \"triangle\":\n",
        "        triangle = patches.Polygon([[0.5, 0.9], [0.2, 0.1], [0.8, 0.1]], color=chosen_color)\n",
        "        ax.add_patch(triangle)\n",
        "    elif shape == \"hexagon\":\n",
        "        hexagon = patches.RegularPolygon((0.5, 0.5), numVertices=6, radius=0.4, color=chosen_color)\n",
        "        ax.add_patch(hexagon)\n",
        "    elif shape == \"pentagon\":\n",
        "        pentagon = patches.RegularPolygon((0.5, 0.5), numVertices=5, radius=0.4, color=chosen_color)\n",
        "        ax.add_patch(pentagon)\n",
        "    elif shape == \"star\":\n",
        "        # Star with irregular vertices can be tricky; using a custom shape or method for star\n",
        "        star = patches.RegularPolygon((0.5, 0.5), numVertices=5, radius=0.4, color=chosen_color, orientation=np.pi / 5)\n",
        "        ax.add_patch(star)\n",
        "    else:\n",
        "        print(\"Shape not recognized. Try circle, square, triangle, hexagon, pentagon, or star.\")\n",
        "\n",
        "    # Adjust plot settings\n",
        "    ax.set_xlim(0, 1)\n",
        "    ax.set_ylim(0, 1)\n",
        "    ax.set_aspect('equal')\n",
        "    plt.axis('off')\n",
        "    plt.show()\n",
        "\n",
        "# Example usage\n",
        "shape = input(\"Enter shape (circle, square, triangle, hexagon, pentagon, star): \")\n",
        "color = input(\"Enter color (red, green, blue, yellow, black): \")\n",
        "generate_art_with_patches(shape, color)"
      ],
      "metadata": {
        "colab": {
          "base_uri": "https://localhost:8080/",
          "height": 441
        },
        "id": "MPBaUV0d_31J",
        "outputId": "f1fba60d-7a43-47ac-a339-d811e85443ae"
      },
      "execution_count": 6,
      "outputs": [
        {
          "name": "stdout",
          "output_type": "stream",
          "text": [
            "Enter shape (circle, square, triangle, hexagon, pentagon, star): pentagon\n",
            "Enter color (red, green, blue, yellow, black): black\n"
          ]
        },
        {
          "output_type": "display_data",
          "data": {
            "text/plain": [
              "<Figure size 640x480 with 1 Axes>"
            ],
            "image/png": "[encoded data removed]"
          },
          "metadata": {}
        }
      ]
    }
  ]
}